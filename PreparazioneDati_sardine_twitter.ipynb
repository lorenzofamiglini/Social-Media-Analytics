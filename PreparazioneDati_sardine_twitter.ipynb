{
 "cells": [
  {
   "cell_type": "code",
   "execution_count": 398,
   "metadata": {},
   "outputs": [],
   "source": [
    "import pandas as pd\n",
    "import re\n",
    "import json\n",
    "import ast\n",
    "import sys"
   ]
  },
  {
   "cell_type": "code",
   "execution_count": 399,
   "metadata": {},
   "outputs": [
    {
     "data": {
      "text/plain": [
       "23991"
      ]
     },
     "execution_count": 399,
     "metadata": {},
     "output_type": "execute_result"
    }
   ],
   "source": [
    "df1 = pd.read_json(\"D:/Datasets/stream_tweets/tw05.json\")\n",
    "df2 = pd.read_json(\"D:/Datasets/stream_tweets/tw06.json\")\n",
    "df3 = pd.read_json(\"D:/Datasets/stream_tweets/tw07.json\")\n",
    "df4 = pd.read_json(\"D:/Datasets/stream_tweets/tw08.json\")\n",
    "df5 = pd.read_json(\"D:/Datasets/stream_tweets/tw09.json\")\n",
    "df6 = pd.read_json(\"D:/Datasets/stream_tweets/tw10.json\")\n",
    "df7 = pd.read_json(\"D:/Datasets/stream_tweets/tw11.json\")\n",
    "df8 = pd.read_json(\"D:/Datasets/stream_tweets/tw15_dicembre-piu.json\")\n",
    "\n",
    "dfm = pd.concat([df1, df2, df3, df4, df5, df6, df7, df8], axis = 0)\n",
    "len(dfm)"
   ]
  },
  {
   "cell_type": "code",
   "execution_count": 400,
   "metadata": {},
   "outputs": [],
   "source": [
    "def find_mentions(x):\n",
    "    p = re.compile(r'@([^\\s:]+)')\n",
    "    return ', '.join(p.findall(x))\n",
    "\n",
    "dfm[\"@mentions\"] = dfm[\"text\"].apply(find_mentions)"
   ]
  },
  {
   "cell_type": "markdown",
   "metadata": {},
   "source": [
    "Account "
   ]
  },
  {
   "cell_type": "code",
   "execution_count": 401,
   "metadata": {},
   "outputs": [],
   "source": [
    "dfm = dfm.rename(columns={\"description\":\"account_description\",\n",
    "                    \"followers_count\": \"account_followers_count\",\n",
    "                   \"friends_count\": \"account_friends_count\", \n",
    "                   \"location\": \"account_location\",\n",
    "                   \"name\": \"account_name\",\n",
    "                   \"screen_name\": \"account_screen_name\", \n",
    "                    \"statuses_count\": \"account_statuses_count\",\n",
    "                   \"favourites_count\": \"account_favourites_count\", \n",
    "                    \"verified\": \"account_verified\",\n",
    "                    \"protected\": \"account_protected\",\n",
    "                    \"user_id\":\"account_user_id\",\n",
    "                    \"listed_count\": \"account_listed_count\"})"
   ]
  },
  {
   "cell_type": "markdown",
   "metadata": {},
   "source": [
    "Tweet"
   ]
  },
  {
   "cell_type": "code",
   "execution_count": 402,
   "metadata": {},
   "outputs": [],
   "source": [
    "dfm = dfm.rename(columns={\"status_id\":\"\",\n",
    "                    \"created_at\": \"tweet_created_at\",\n",
    "                   \"text\": \"tweet_text\", \n",
    "                   \"source\": \"tweet_source\",\n",
    "                   \"display_text_width\": \"tweet_width\",\n",
    "                   \"favorite_count\": \"tweet_favorite_count\", \n",
    "                    \"hashtags\": \"tweet_hashtags\",\n",
    "                   \"place_full_name\": \"tweet_place_full_name\", \n",
    "                    \"country\": \"tweet_country\",\n",
    "                    \"lang\": \"tweet_lang\"})"
   ]
  },
  {
   "cell_type": "code",
   "execution_count": 403,
   "metadata": {},
   "outputs": [],
   "source": [
    "dfm = dfm.reset_index()\n",
    "dfm = dfm.drop([\"index\"], axis = 1)"
   ]
  },
  {
   "cell_type": "code",
   "execution_count": 404,
   "metadata": {},
   "outputs": [],
   "source": [
    "dfm = dfm.drop(['quoted_status_id', 'quoted_text', \"quote_count\",\n",
    "       'quoted_created_at', 'quoted_source', 'quoted_favorite_count',\n",
    "       'quoted_retweet_count', 'quoted_user_id', 'quoted_screen_name',\n",
    "       'quoted_name', 'quoted_followers_count', 'quoted_friends_count',\n",
    "       'quoted_statuses_count', 'quoted_location', 'quoted_description',\"url\",\"status_url\",\n",
    "       'quoted_verified','is_quote','profile_expanded_url', 'profile_banner_url', 'profile_background_url', 'profile_image_url', \"profile_url\",\n",
    "                'urls_url', 'urls_t.co', 'urls_expanded_url','place_type', 'country_code', 'geo_coords', 'coords_coords',\n",
    "       'bbox_coords',\n",
    "       'media_url', 'media_t.co', 'media_expanded_url', 'media_type',\n",
    "       'ext_media_url', 'ext_media_t.co', 'ext_media_expanded_url','place_name','place_url','tweet_place_full_name',\n",
    "       'ext_media_type','tweet_country','tweet_lang','symbols', 'mentions_user_id', 'is_retweet', 'tweet_width', 'mentions_screen_name'\n",
    "             ], axis=1)"
   ]
  },
  {
   "cell_type": "code",
   "execution_count": 405,
   "metadata": {},
   "outputs": [
    {
     "data": {
      "text/plain": [
       "Index(['account_user_id', '', 'tweet_created_at', 'account_screen_name',\n",
       "       'tweet_text', 'tweet_source', 'reply_to_status_id', 'reply_to_user_id',\n",
       "       'reply_to_screen_name', 'tweet_favorite_count', 'retweet_count',\n",
       "       'reply_count', 'tweet_hashtags', 'retweet_status_id', 'retweet_text',\n",
       "       'retweet_created_at', 'retweet_source', 'retweet_favorite_count',\n",
       "       'retweet_retweet_count', 'retweet_user_id', 'retweet_screen_name',\n",
       "       'retweet_name', 'retweet_followers_count', 'retweet_friends_count',\n",
       "       'retweet_statuses_count', 'retweet_location', 'retweet_description',\n",
       "       'retweet_verified', 'account_name', 'account_location',\n",
       "       'account_description', 'account_protected', 'account_followers_count',\n",
       "       'account_friends_count', 'account_listed_count',\n",
       "       'account_statuses_count', 'account_favourites_count',\n",
       "       'account_created_at', 'account_verified', 'account_lang', '@mentions'],\n",
       "      dtype='object')"
      ]
     },
     "execution_count": 405,
     "metadata": {},
     "output_type": "execute_result"
    }
   ],
   "source": [
    "dfm.columns"
   ]
  },
  {
   "cell_type": "code",
   "execution_count": 406,
   "metadata": {
    "scrolled": false
   },
   "outputs": [
    {
     "name": "stderr",
     "output_type": "stream",
     "text": [
      "C:\\Users\\loren\\Anaconda3\\envs\\deepml-gpu\\lib\\site-packages\\ipykernel_launcher.py:6: FutureWarning: Sorting because non-concatenation axis is not aligned. A future version\n",
      "of pandas will change to not sort by default.\n",
      "\n",
      "To accept the future behavior, pass 'sort=False'.\n",
      "\n",
      "To retain the current behavior and silence the warning, pass 'sort=True'.\n",
      "\n",
      "  \n"
     ]
    }
   ],
   "source": [
    "df1 = pd.read_csv(\"D:/Datasets/stream_tweets/tweet_sardine_12-13Dic.csv\")\n",
    "df2 = pd.read_csv(\"D:/Datasets/stream_tweets/5210tweets_dapulire.csv\")\n",
    "df3 = pd.read_csv(\"D:/Datasets/stream_tweets/1572tweets_sabato_roma.csv\")\n",
    "df4 = pd.read_csv(\"D:/Datasets/stream_tweets/10000tweets_sabato_roma.csv\")\n",
    "df1.rename(columns={\"full_text\": \"text\"}, inplace = True)\n",
    "df = pd.concat([df1,df2,df3,df4])\n",
    "df[\"retweeted_status\"] = df[\"retweeted_status\"].fillna(\"Vuoto\")"
   ]
  },
  {
   "cell_type": "code",
   "execution_count": 407,
   "metadata": {},
   "outputs": [],
   "source": [
    "def get_json(x):\n",
    "    x = ast.literal_eval(x)\n",
    "    return x"
   ]
  },
  {
   "cell_type": "code",
   "execution_count": 408,
   "metadata": {},
   "outputs": [],
   "source": [
    "df[\"user\"] = df[\"user\"].apply(get_json)"
   ]
  },
  {
   "cell_type": "code",
   "execution_count": 409,
   "metadata": {},
   "outputs": [],
   "source": [
    "def get_protected(x):\n",
    "    return(x[\"protected\"])\n",
    "\n",
    "def get_id(x):\n",
    "    return(x[\"id\"])\n",
    "\n",
    "def get_name(x):\n",
    "    return(x[\"name\"])\n",
    "\n",
    "def get_screen_name(x):\n",
    "    return(x[\"screen_name\"])\n",
    "\n",
    "def get_location(x):\n",
    "    return(x[\"location\"])\n",
    "\n",
    "def get_verified(x):\n",
    "    return(x[\"verified\"])\n",
    "\n",
    "def get_followers_count(x):\n",
    "    return(x[\"followers_count\"])\n",
    "\n",
    "def get_friends_count(x):\n",
    "    return(x[\"friends_count\"])\n",
    "\n",
    "def get_listed_count(x):\n",
    "    return(x[\"listed_count\"])\n",
    "\n",
    "def get_favourites_count(x):\n",
    "    return(x[\"favourites_count\"])\n",
    "\n",
    "def get_created_time(x):\n",
    "    return(x[\"created_at\"])\n",
    "\n",
    "def get_description(x):\n",
    "    return(x[\"description\"])\n",
    "\n",
    "def get_lang(x):\n",
    "    return(x[\"lang\"])\n",
    "\n",
    "def get_statuses(x):\n",
    "    return(x[\"statuses_count\"])\n",
    "\n",
    "def get_hashtag(x):\n",
    "    p = re.compile(r\"(#\\w+)\")\n",
    "    return ','.join(p.findall(x))"
   ]
  },
  {
   "cell_type": "markdown",
   "metadata": {},
   "source": [
    "Account"
   ]
  },
  {
   "cell_type": "code",
   "execution_count": 410,
   "metadata": {
    "scrolled": true
   },
   "outputs": [],
   "source": [
    "df[\"account_user_id\"] = df[\"user\"].apply(get_id)\n",
    "df[\"account_name\"] = df[\"user\"].apply(get_name)\n",
    "df[\"account_screen_name\"] = df[\"user\"].apply(get_screen_name)\n",
    "df[\"account_location\"] = df[\"user\"].apply(get_location)\n",
    "df[\"account_verified\"] = df[\"user\"].apply(get_verified)\n",
    "df[\"account_followers_count\"] = df[\"user\"].apply(get_followers_count)\n",
    "df[\"account_friends_count\"] = df[\"user\"].apply(get_friends_count)\n",
    "df[\"account_listed_count\"] = df[\"user\"].apply(get_listed_count)\n",
    "df[\"account_favourites_count\"] = df[\"user\"].apply(get_favourites_count)\n",
    "df[\"account_created_at\"] = df[\"user\"].apply(get_created_time)\n",
    "df[\"account_description\"] = df[\"user\"].apply(get_description)\n",
    "df[\"account_protected\"] = df[\"user\"].apply(get_protected)\n",
    "df[\"account_statuses_count\"] = df[\"user\"].apply(get_statuses)\n",
    "df[\"account_lang\"] = df[\"user\"].apply(get_lang)"
   ]
  },
  {
   "cell_type": "markdown",
   "metadata": {},
   "source": [
    "tweet"
   ]
  },
  {
   "cell_type": "code",
   "execution_count": 411,
   "metadata": {},
   "outputs": [],
   "source": [
    "df = df.rename(columns={\"in_reply_to_screen_name\":\"replay_to_screen_name\",\n",
    "                        \"in_reply_to_status_id\": \"replay_to_status_id\",\n",
    "                        \"in_reply_to_user_id\": \"replay_to_user_id\", \n",
    "                        \"created_at\": \"tweet_created_at\",\n",
    "                    \"favorite_count\": \"tweet_favorite_count\"})        "
   ]
  },
  {
   "cell_type": "code",
   "execution_count": 412,
   "metadata": {},
   "outputs": [],
   "source": [
    "def get_json2(x):\n",
    "    if x != \"Vuoto\":\n",
    "        x = ast.literal_eval(x)\n",
    "        return x\n",
    "    else:\n",
    "        return x"
   ]
  },
  {
   "cell_type": "code",
   "execution_count": 413,
   "metadata": {},
   "outputs": [],
   "source": [
    "def get_created_at(x):\n",
    "    if x != \"Vuoto\":\n",
    "        return(x[\"created_at\"])#created_at del retweet\n",
    "    else:\n",
    "        return x \n",
    "def get_status_id(x):\n",
    "    if x != \"Vuoto\":\n",
    "        return(x[\"id\"])\n",
    "    else:\n",
    "        return x\n",
    "        \n",
    "def get_user_id(x):\n",
    "    if x != \"Vuoto\":\n",
    "        return(x[\"user\"][\"id\"])\n",
    "    return x\n",
    "def get_friends_count(x):\n",
    "    if x != \"Vuoto\":\n",
    "        return(x[\"user\"][\"friends_count\"])\n",
    "    else:\n",
    "        return x\n",
    "def get_name(x):\n",
    "    if x != \"Vuoto\":\n",
    "        return(x[\"user\"][\"name\"])\n",
    "    else:\n",
    "        return x\n",
    "def get_retweet_count(x):\n",
    "    if x != \"Vuoto\":\n",
    "        return(x[\"retweet_count\"])\n",
    "    else:\n",
    "        return x\n",
    "def get_favorite_count(x):\n",
    "    if x != \"Vuoto\":\n",
    "        return(x[\"favorite_count\"])\n",
    "    else:\n",
    "        return x\n",
    "def get_followers_count(x):\n",
    "    if x != \"Vuoto\":\n",
    "        return(x[\"user\"][\"followers_count\"])\n",
    "    else:\n",
    "        return x\n",
    "def get_source(x):\n",
    "    if x != \"Vuoto\":\n",
    "        return(x[\"source\"])\n",
    "    else:\n",
    "        return x\n",
    "def get_description(x):\n",
    "    if x != \"Vuoto\":\n",
    "        return(x[\"user\"][\"description\"])\n",
    "    else:\n",
    "        return x\n",
    "def get_location(x):\n",
    "    if x != \"Vuoto\":\n",
    "        return(x[\"user\"][\"location\"])\n",
    "    else:\n",
    "        return x\n",
    "def get_statuses_count(x):\n",
    "    if x != \"Vuoto\":\n",
    "        return(x[\"user\"][\"statuses_count\"])\n",
    "    else:\n",
    "        return x\n",
    "def get_verified(x):\n",
    "    if x != \"Vuoto\":\n",
    "        return(x[\"user\"][\"verified\"])\n",
    "    else:\n",
    "        return x\n",
    "def get_screen_name(x):\n",
    "    if x != \"Vuoto\":\n",
    "        return(x[\"user\"][\"screen_name\"])\n",
    "    else:\n",
    "        return x\n",
    "def get_retweet_count(x):\n",
    "    if x != \"Vuoto\":\n",
    "        return(x[\"retweet_count\"])\n",
    "    else:\n",
    "        return x    \n",
    "def get_width(x):\n",
    "    if x != \"Vuoto\":\n",
    "        return(x[1])\n",
    "    else:\n",
    "        return \"Vuoto\"    "
   ]
  },
  {
   "cell_type": "code",
   "execution_count": 414,
   "metadata": {},
   "outputs": [],
   "source": [
    "df[\"retweeted_status\"] = df[\"retweeted_status\"].apply(get_json2)"
   ]
  },
  {
   "cell_type": "code",
   "execution_count": 415,
   "metadata": {},
   "outputs": [],
   "source": [
    "df[\"tweet_hashtags\"] = df[\"text\"].apply(get_hashtag)\n",
    "df['tweet_source'] = df['source'].str.extract('>(.+?)<', expand=False).str.strip() #Estraiamo la sorgente\n",
    "df[\"@mentions\"] = df[\"text\"].apply(find_mentions)\n",
    "df[\"retweet_created_at\"] = df[\"retweeted_status\"].apply(get_created_at)\n",
    "df[\"retweet_source\"] = df[\"retweeted_status\"].apply(get_source)\n",
    "df[\"retweet_favorite_count\"] = df[\"retweeted_status\"].apply(get_favorite_count)\n",
    "df[\"retweet_retweet_count\"] = df[\"retweeted_status\"].apply(get_retweet_count)\n",
    "df[\"retweet_status_id\"] = df[\"retweeted_status\"].apply(get_status_id)\n",
    "df[\"retweet_user_id\"] = df[\"retweeted_status\"].apply(get_user_id)\n",
    "df[\"retweet_screen_name\"] = df[\"retweeted_status\"].apply(get_screen_name)\n",
    "df[\"retweet_name\"] = df[\"retweeted_status\"].apply(get_name)\n",
    "df[\"retweet_followers_count\"] = df[\"retweeted_status\"].apply(get_followers_count)\n",
    "df[\"retweet_statuses_count\"] = df[\"retweeted_status\"].apply(get_statuses_count)\n",
    "df[\"retweet_friends_count\"] = df[\"retweeted_status\"].apply(get_friends_count)\n",
    "df[\"retweet_verified\"] = df[\"retweeted_status\"].apply(get_verified)\n",
    "df[\"retweet_count\"] = df[\"retweeted_status\"].apply(get_retweet_count)\n",
    "df[\"retweet_location\"] = df[\"retweeted_status\"].apply(get_location)\n",
    "df[\"retweet_description\"] = df[\"retweeted_status\"].apply(get_description)"
   ]
  },
  {
   "cell_type": "code",
   "execution_count": 416,
   "metadata": {},
   "outputs": [],
   "source": [
    "def get_full_text(x):\n",
    "    if x != \"Vuoto\":\n",
    "        try:\n",
    "            return(x[\"full_text\"])\n",
    "        except KeyError:\n",
    "            if x[\"truncated\"] == False:\n",
    "                return(x[\"text\"])\n",
    "            else:\n",
    "                return(x[\"extended_tweet\"][\"full_text\"])\n",
    "    else:\n",
    "        return x"
   ]
  },
  {
   "cell_type": "code",
   "execution_count": 417,
   "metadata": {},
   "outputs": [],
   "source": [
    "df = df.reset_index()"
   ]
  },
  {
   "cell_type": "code",
   "execution_count": 418,
   "metadata": {},
   "outputs": [],
   "source": [
    "appp = df[\"retweeted_status\"].apply(get_full_text)"
   ]
  },
  {
   "cell_type": "code",
   "execution_count": 419,
   "metadata": {},
   "outputs": [],
   "source": [
    "appp = appp[appp != \"Vuoto\"]"
   ]
  },
  {
   "cell_type": "code",
   "execution_count": 420,
   "metadata": {},
   "outputs": [],
   "source": [
    "appp_idx = appp[appp != \"Vuoto\"].index"
   ]
  },
  {
   "cell_type": "code",
   "execution_count": 421,
   "metadata": {},
   "outputs": [],
   "source": [
    "df[\"text\"].iloc[appp_idx] = appp"
   ]
  },
  {
   "cell_type": "code",
   "execution_count": 422,
   "metadata": {},
   "outputs": [],
   "source": [
    "index_ex_tweet = df[df[\"extended_tweet\"].notnull()].index"
   ]
  },
  {
   "cell_type": "code",
   "execution_count": 423,
   "metadata": {},
   "outputs": [],
   "source": [
    "tweet_estesi = df.loc[index_ex_tweet][\"extended_tweet\"]"
   ]
  },
  {
   "cell_type": "code",
   "execution_count": 424,
   "metadata": {},
   "outputs": [],
   "source": [
    "def get_full_text(x):\n",
    "    x = ast.literal_eval(x)\n",
    "    return(x[\"full_text\"])"
   ]
  },
  {
   "cell_type": "code",
   "execution_count": 425,
   "metadata": {},
   "outputs": [],
   "source": [
    "tweet_estesi = tweet_estesi.apply(get_full_text)"
   ]
  },
  {
   "cell_type": "code",
   "execution_count": 426,
   "metadata": {},
   "outputs": [
    {
     "data": {
      "text/plain": [
       "4788     @RadioSavana Ma la cosa più assurda è che inco...\n",
       "4789     @BarresiSantino @CieloItalia @SSovranista @Bde...\n",
       "4797     @mrcllznn @CarloCalenda @Cenorava ... o dentro...\n",
       "4803     @simonefloris7 @DiegoFusaro Facciamo come le s...\n",
       "4808     Borgonzoni in rimonta ora incalza Bonaccini: i...\n",
       "                               ...                        \n",
       "21520    @Ilconservator @amenoklean #Sardine gli italia...\n",
       "21521    Che grande emozione cantare Bella Ciao, dopo t...\n",
       "21524    Bene, cominciate voi giornalisti a  tornare ad...\n",
       "21537    \"Siamo i partigiani del 2020\". Sardine a Roma ...\n",
       "21543    La piazza di Roma vale più di tante parole, di...\n",
       "Name: extended_tweet, Length: 2052, dtype: object"
      ]
     },
     "execution_count": 426,
     "metadata": {},
     "output_type": "execute_result"
    }
   ],
   "source": [
    "tweet_estesi"
   ]
  },
  {
   "cell_type": "code",
   "execution_count": 427,
   "metadata": {},
   "outputs": [],
   "source": [
    "df['text'].iloc[index_ex_tweet] = tweet_estesi"
   ]
  },
  {
   "cell_type": "code",
   "execution_count": 428,
   "metadata": {},
   "outputs": [],
   "source": [
    "df.drop([\"extended_tweet\"], axis = 1, inplace = True)"
   ]
  },
  {
   "cell_type": "code",
   "execution_count": 429,
   "metadata": {},
   "outputs": [],
   "source": [
    "df = df.drop(['index','Unnamed: 0', 'contributors', 'coordinates','user', 'source', 'quote_count', 'quoted_status',\n",
    "       'quoted_status_id', 'quoted_status_id_str', 'quoted_status_permalink', 'is_quote_status', 'in_reply_to_status_id_str',\n",
    "              'in_reply_to_user_id_str','entities','extended_entities', 'display_text_range','timestamp_ms', 'truncated','favorited', 'geo', 'id', 'id_str','retweeted', 'retweeted_status'\n",
    "             ], axis=1)"
   ]
  },
  {
   "cell_type": "code",
   "execution_count": 430,
   "metadata": {},
   "outputs": [],
   "source": [
    "df = df.drop([\"filter_level\",\"metadata\", \"possibly_sensitive\"], axis=1)"
   ]
  },
  {
   "cell_type": "code",
   "execution_count": 431,
   "metadata": {},
   "outputs": [],
   "source": [
    "df = df.rename(columns={\"replay_to_screen_name\":\"reply_to_screen_name\",\n",
    "                        \"replay_to_status_id\": \"reply_to_status_id\",\n",
    "                        \"replay_to_user_id\": \"reply_to_user_id\", \n",
    "                        \"created_at\": \"tweet_created_at\",\n",
    "                    \"favorite_count\": \"tweet_favorite_count\"})  "
   ]
  },
  {
   "cell_type": "code",
   "execution_count": 432,
   "metadata": {},
   "outputs": [],
   "source": [
    "df = df.drop([\"lang\", \"place\"], axis = 1)"
   ]
  },
  {
   "cell_type": "code",
   "execution_count": 433,
   "metadata": {},
   "outputs": [],
   "source": [
    "dfm.rename(columns={\"tweet_text\": \"text\"}, inplace = True)"
   ]
  },
  {
   "cell_type": "code",
   "execution_count": 434,
   "metadata": {},
   "outputs": [],
   "source": [
    "dfm = dfm.drop([\"retweet_text\"], axis = 1)"
   ]
  },
  {
   "cell_type": "code",
   "execution_count": 500,
   "metadata": {},
   "outputs": [
    {
     "name": "stderr",
     "output_type": "stream",
     "text": [
      "C:\\Users\\loren\\Anaconda3\\envs\\deepml-gpu\\lib\\site-packages\\ipykernel_launcher.py:1: FutureWarning: Sorting because non-concatenation axis is not aligned. A future version\n",
      "of pandas will change to not sort by default.\n",
      "\n",
      "To accept the future behavior, pass 'sort=False'.\n",
      "\n",
      "To retain the current behavior and silence the warning, pass 'sort=True'.\n",
      "\n",
      "  \"\"\"Entry point for launching an IPython kernel.\n"
     ]
    }
   ],
   "source": [
    "df_tot = pd.concat([dfm, df], axis = 0)"
   ]
  },
  {
   "cell_type": "code",
   "execution_count": 501,
   "metadata": {},
   "outputs": [],
   "source": [
    "df_tot.drop([\"account_lang\"], inplace = True, axis = 1)"
   ]
  },
  {
   "cell_type": "code",
   "execution_count": 502,
   "metadata": {},
   "outputs": [],
   "source": [
    "df_tot = df_tot.iloc[:,1:].reset_index()"
   ]
  },
  {
   "cell_type": "code",
   "execution_count": 503,
   "metadata": {},
   "outputs": [],
   "source": [
    "df_tot.rename(columns = {\"tweet_hashtags\":\"hashtags\", \"account_screen_name\":\"screen_name\"}, inplace = True)"
   ]
  },
  {
   "cell_type": "code",
   "execution_count": 504,
   "metadata": {},
   "outputs": [],
   "source": [
    "df_tot[\"@mentions\"] = df_tot[\"@mentions\"].fillna(\"Vuoto\")"
   ]
  },
  {
   "cell_type": "code",
   "execution_count": 518,
   "metadata": {},
   "outputs": [],
   "source": [
    "def join_mentions(x): \n",
    "    if (x[\"retweet_screen_name\"] != \"Vuoto\") and (x[\"@mentions\"] != \"\") and (x[\"retweet_screen_name\"] != x[\"@mentions\"]):\n",
    "        return ' '.join(x)\n",
    "    if (x[\"retweet_screen_name\"] == \"Vuoto\") and (x[\"@mentions\"] != \"\"):\n",
    "        return x[\"@mentions\"]\n",
    "    if (x[\"retweet_screen_name\"] != \"Vuoto\") and (x[\"@mentions\"] == \"\"):\n",
    "        return x[\"retweet_screen_name\"]\n",
    "    if (x[\"retweet_screen_name\"] == x[\"@mentions\"]):\n",
    "        return x[\"@mentions\"]\n",
    "    if (x[\"retweet_screen_name\"] == \"Vuoto\") and (x[\"@mentions\"] == \"\"):\n",
    "        return None"
   ]
  },
  {
   "cell_type": "code",
   "execution_count": 519,
   "metadata": {},
   "outputs": [],
   "source": [
    "df_tot[\"retweet_screen_name\"] = df_tot[\"retweet_screen_name\"].fillna(\"Vuoto\")"
   ]
  },
  {
   "cell_type": "code",
   "execution_count": 522,
   "metadata": {},
   "outputs": [],
   "source": [
    "df_tot[\"@mentions\"] = df_tot[[\"@mentions\",\"retweet_screen_name\"]].apply(join_mentions, axis = 1)"
   ]
  },
  {
   "cell_type": "code",
   "execution_count": 541,
   "metadata": {},
   "outputs": [],
   "source": [
    "df_tot[\"@mentions\"] = df_tot['@mentions'].replace(' ', ',', regex = True)"
   ]
  },
  {
   "cell_type": "code",
   "execution_count": 542,
   "metadata": {
    "scrolled": false
   },
   "outputs": [
    {
     "data": {
      "text/html": [
       "<div>\n",
       "<style scoped>\n",
       "    .dataframe tbody tr th:only-of-type {\n",
       "        vertical-align: middle;\n",
       "    }\n",
       "\n",
       "    .dataframe tbody tr th {\n",
       "        vertical-align: top;\n",
       "    }\n",
       "\n",
       "    .dataframe thead th {\n",
       "        text-align: right;\n",
       "    }\n",
       "</style>\n",
       "<table border=\"1\" class=\"dataframe\">\n",
       "  <thead>\n",
       "    <tr style=\"text-align: right;\">\n",
       "      <th></th>\n",
       "      <th>@mentions</th>\n",
       "      <th>retweet_screen_name</th>\n",
       "    </tr>\n",
       "  </thead>\n",
       "  <tbody>\n",
       "    <tr>\n",
       "      <th>0</th>\n",
       "      <td>AMorelliMilano,_GrayDorian</td>\n",
       "      <td>_GrayDorian</td>\n",
       "    </tr>\n",
       "    <tr>\n",
       "      <th>1</th>\n",
       "      <td>doluccia16</td>\n",
       "      <td>doluccia16</td>\n",
       "    </tr>\n",
       "    <tr>\n",
       "      <th>2</th>\n",
       "      <td>angelo_ra_</td>\n",
       "      <td>angelo_ra_</td>\n",
       "    </tr>\n",
       "    <tr>\n",
       "      <th>3</th>\n",
       "      <td>_GrayDorian</td>\n",
       "      <td>_GrayDorian</td>\n",
       "    </tr>\n",
       "    <tr>\n",
       "      <th>4</th>\n",
       "      <td>AMorelliMilano,_GrayDorian</td>\n",
       "      <td>_GrayDorian</td>\n",
       "    </tr>\n",
       "    <tr>\n",
       "      <th>...</th>\n",
       "      <td>...</td>\n",
       "      <td>...</td>\n",
       "    </tr>\n",
       "    <tr>\n",
       "      <th>45547</th>\n",
       "      <td>None</td>\n",
       "      <td>Vuoto</td>\n",
       "    </tr>\n",
       "    <tr>\n",
       "      <th>45548</th>\n",
       "      <td>IlCastiga</td>\n",
       "      <td>IlCastiga</td>\n",
       "    </tr>\n",
       "    <tr>\n",
       "      <th>45549</th>\n",
       "      <td>None</td>\n",
       "      <td>Vuoto</td>\n",
       "    </tr>\n",
       "    <tr>\n",
       "      <th>45550</th>\n",
       "      <td>Marcoclari1</td>\n",
       "      <td>Marcoclari1</td>\n",
       "    </tr>\n",
       "    <tr>\n",
       "      <th>45551</th>\n",
       "      <td>jimmomo</td>\n",
       "      <td>jimmomo</td>\n",
       "    </tr>\n",
       "  </tbody>\n",
       "</table>\n",
       "<p>45552 rows × 2 columns</p>\n",
       "</div>"
      ],
      "text/plain": [
       "                        @mentions retweet_screen_name\n",
       "0      AMorelliMilano,_GrayDorian         _GrayDorian\n",
       "1                      doluccia16          doluccia16\n",
       "2                      angelo_ra_          angelo_ra_\n",
       "3                     _GrayDorian         _GrayDorian\n",
       "4      AMorelliMilano,_GrayDorian         _GrayDorian\n",
       "...                           ...                 ...\n",
       "45547                        None               Vuoto\n",
       "45548                   IlCastiga           IlCastiga\n",
       "45549                        None               Vuoto\n",
       "45550                 Marcoclari1         Marcoclari1\n",
       "45551                     jimmomo             jimmomo\n",
       "\n",
       "[45552 rows x 2 columns]"
      ]
     },
     "execution_count": 542,
     "metadata": {},
     "output_type": "execute_result"
    }
   ],
   "source": [
    "df_tot[[\"@mentions\",\"retweet_screen_name\"]]"
   ]
  },
  {
   "cell_type": "code",
   "execution_count": 543,
   "metadata": {},
   "outputs": [],
   "source": [
    "df_tot.drop([\"retweet_screen_name\"], axis = 1, inplace = True)"
   ]
  },
  {
   "cell_type": "code",
   "execution_count": 547,
   "metadata": {},
   "outputs": [],
   "source": [
    "df_tot.to_csv(\"D:/Datasets/stream_tweets/df_finale_sardine.csv\")"
   ]
  },
  {
   "cell_type": "code",
   "execution_count": 548,
   "metadata": {
    "scrolled": true
   },
   "outputs": [
    {
     "data": {
      "text/html": [
       "<div>\n",
       "<style scoped>\n",
       "    .dataframe tbody tr th:only-of-type {\n",
       "        vertical-align: middle;\n",
       "    }\n",
       "\n",
       "    .dataframe tbody tr th {\n",
       "        vertical-align: top;\n",
       "    }\n",
       "\n",
       "    .dataframe thead th {\n",
       "        text-align: right;\n",
       "    }\n",
       "</style>\n",
       "<table border=\"1\" class=\"dataframe\">\n",
       "  <thead>\n",
       "    <tr style=\"text-align: right;\">\n",
       "      <th></th>\n",
       "      <th>Unnamed: 0</th>\n",
       "      <th>index</th>\n",
       "      <th>@mentions</th>\n",
       "      <th>account_created_at</th>\n",
       "      <th>account_description</th>\n",
       "      <th>account_favourites_count</th>\n",
       "      <th>account_followers_count</th>\n",
       "      <th>account_friends_count</th>\n",
       "      <th>account_listed_count</th>\n",
       "      <th>account_location</th>\n",
       "      <th>...</th>\n",
       "      <th>retweet_source</th>\n",
       "      <th>retweet_status_id</th>\n",
       "      <th>retweet_statuses_count</th>\n",
       "      <th>retweet_user_id</th>\n",
       "      <th>retweet_verified</th>\n",
       "      <th>text</th>\n",
       "      <th>tweet_created_at</th>\n",
       "      <th>tweet_favorite_count</th>\n",
       "      <th>hashtags</th>\n",
       "      <th>tweet_source</th>\n",
       "    </tr>\n",
       "  </thead>\n",
       "  <tbody>\n",
       "    <tr>\n",
       "      <th>0</th>\n",
       "      <td>0</td>\n",
       "      <td>0</td>\n",
       "      <td>AMorelliMilano,_GrayDorian</td>\n",
       "      <td>2017-10-25 13:43:20</td>\n",
       "      <td>NN DATEMI CONSIGLI....SO SBAGLIARE DA ME.</td>\n",
       "      <td>26620</td>\n",
       "      <td>459</td>\n",
       "      <td>251</td>\n",
       "      <td>2</td>\n",
       "      <td>NaN</td>\n",
       "      <td>...</td>\n",
       "      <td>Twitter for Android</td>\n",
       "      <td>1.20265e+18</td>\n",
       "      <td>5273</td>\n",
       "      <td>1.12833e+08</td>\n",
       "      <td>0</td>\n",
       "      <td>Scherzetto di @AMorelliMilano che domanda alle...</td>\n",
       "      <td>2019-12-05 23:53:20</td>\n",
       "      <td>0</td>\n",
       "      <td>sardine</td>\n",
       "      <td>Twitter for Android</td>\n",
       "    </tr>\n",
       "    <tr>\n",
       "      <th>1</th>\n",
       "      <td>1</td>\n",
       "      <td>1</td>\n",
       "      <td>doluccia16</td>\n",
       "      <td>2018-10-24 22:43:19.999999762</td>\n",
       "      <td>NaN</td>\n",
       "      <td>324174</td>\n",
       "      <td>985</td>\n",
       "      <td>383</td>\n",
       "      <td>0</td>\n",
       "      <td>NaN</td>\n",
       "      <td>...</td>\n",
       "      <td>Twitter for Android</td>\n",
       "      <td>1.2027e+18</td>\n",
       "      <td>40452</td>\n",
       "      <td>4.90139e+08</td>\n",
       "      <td>0</td>\n",
       "      <td>Il leader delle #Sardine: \"Siamo evidentemente...</td>\n",
       "      <td>2019-12-05 23:53:20</td>\n",
       "      <td>0</td>\n",
       "      <td>Sardine</td>\n",
       "      <td>Twitter for Android</td>\n",
       "    </tr>\n",
       "    <tr>\n",
       "      <th>2</th>\n",
       "      <td>2</td>\n",
       "      <td>2</td>\n",
       "      <td>angelo_ra_</td>\n",
       "      <td>2018-10-24 22:43:19.999999762</td>\n",
       "      <td>NaN</td>\n",
       "      <td>324174</td>\n",
       "      <td>985</td>\n",
       "      <td>383</td>\n",
       "      <td>0</td>\n",
       "      <td>NaN</td>\n",
       "      <td>...</td>\n",
       "      <td>Twitter for Android</td>\n",
       "      <td>1.2026e+18</td>\n",
       "      <td>106903</td>\n",
       "      <td>1.38681e+09</td>\n",
       "      <td>0</td>\n",
       "      <td>Matteo Salvini durissimo con Mattia Santori le...</td>\n",
       "      <td>2019-12-05 20:49:59.999999762</td>\n",
       "      <td>0</td>\n",
       "      <td>NaN</td>\n",
       "      <td>Twitter for Android</td>\n",
       "    </tr>\n",
       "    <tr>\n",
       "      <th>3</th>\n",
       "      <td>3</td>\n",
       "      <td>3</td>\n",
       "      <td>_GrayDorian</td>\n",
       "      <td>2018-10-24 22:43:19.999999762</td>\n",
       "      <td>NaN</td>\n",
       "      <td>324174</td>\n",
       "      <td>985</td>\n",
       "      <td>383</td>\n",
       "      <td>0</td>\n",
       "      <td>NaN</td>\n",
       "      <td>...</td>\n",
       "      <td>Twitter for Android</td>\n",
       "      <td>1.20256e+18</td>\n",
       "      <td>5273</td>\n",
       "      <td>1.12833e+08</td>\n",
       "      <td>0</td>\n",
       "      <td>- 245 manifestazioni in tutto il paese, milion...</td>\n",
       "      <td>2019-12-05 20:33:20</td>\n",
       "      <td>0</td>\n",
       "      <td>NaN</td>\n",
       "      <td>Twitter for Android</td>\n",
       "    </tr>\n",
       "    <tr>\n",
       "      <th>4</th>\n",
       "      <td>4</td>\n",
       "      <td>4</td>\n",
       "      <td>AMorelliMilano,_GrayDorian</td>\n",
       "      <td>2012-12-19 04:23:20</td>\n",
       "      <td>Fashion &amp; FOOD+Bev. Manag.,40 years POSIT. Exp...</td>\n",
       "      <td>40</td>\n",
       "      <td>1560</td>\n",
       "      <td>4997</td>\n",
       "      <td>25</td>\n",
       "      <td>Carpi, MO, I</td>\n",
       "      <td>...</td>\n",
       "      <td>Twitter for Android</td>\n",
       "      <td>1.20265e+18</td>\n",
       "      <td>5273</td>\n",
       "      <td>1.12833e+08</td>\n",
       "      <td>0</td>\n",
       "      <td>Scherzetto di @AMorelliMilano che domanda alle...</td>\n",
       "      <td>2019-12-05 23:53:20</td>\n",
       "      <td>0</td>\n",
       "      <td>sardine</td>\n",
       "      <td>Twitter for Android</td>\n",
       "    </tr>\n",
       "    <tr>\n",
       "      <th>...</th>\n",
       "      <td>...</td>\n",
       "      <td>...</td>\n",
       "      <td>...</td>\n",
       "      <td>...</td>\n",
       "      <td>...</td>\n",
       "      <td>...</td>\n",
       "      <td>...</td>\n",
       "      <td>...</td>\n",
       "      <td>...</td>\n",
       "      <td>...</td>\n",
       "      <td>...</td>\n",
       "      <td>...</td>\n",
       "      <td>...</td>\n",
       "      <td>...</td>\n",
       "      <td>...</td>\n",
       "      <td>...</td>\n",
       "      <td>...</td>\n",
       "      <td>...</td>\n",
       "      <td>...</td>\n",
       "      <td>...</td>\n",
       "      <td>...</td>\n",
       "    </tr>\n",
       "    <tr>\n",
       "      <th>45547</th>\n",
       "      <td>45547</td>\n",
       "      <td>21556</td>\n",
       "      <td>NaN</td>\n",
       "      <td>Sun Jun 28 10:23:20 +0000 2009</td>\n",
       "      <td>Organizzazione di eventi. Liberale, liberista,...</td>\n",
       "      <td>8984</td>\n",
       "      <td>750</td>\n",
       "      <td>613</td>\n",
       "      <td>14</td>\n",
       "      <td>Milano</td>\n",
       "      <td>...</td>\n",
       "      <td>Vuoto</td>\n",
       "      <td>Vuoto</td>\n",
       "      <td>Vuoto</td>\n",
       "      <td>Vuoto</td>\n",
       "      <td>Vuoto</td>\n",
       "      <td>Come ho già detto in un'altra occasione, il mo...</td>\n",
       "      <td>Sat Dec 14 17:06:54 +0000 2019</td>\n",
       "      <td>0</td>\n",
       "      <td>NaN</td>\n",
       "      <td>Facebook</td>\n",
       "    </tr>\n",
       "    <tr>\n",
       "      <th>45548</th>\n",
       "      <td>45548</td>\n",
       "      <td>21557</td>\n",
       "      <td>IlCastiga</td>\n",
       "      <td>Mon Sep 21 13:11:43 +0000 2009</td>\n",
       "      <td>Sie müssen sich von diesen dem  neunzehnten Ja...</td>\n",
       "      <td>28779</td>\n",
       "      <td>146</td>\n",
       "      <td>81</td>\n",
       "      <td>0</td>\n",
       "      <td>Ministerium für Liebe</td>\n",
       "      <td>...</td>\n",
       "      <td>&lt;a href=\"http://twitter.com/download/android\" ...</td>\n",
       "      <td>1205796623999221760</td>\n",
       "      <td>30422</td>\n",
       "      <td>1127210403489034241</td>\n",
       "      <td>False</td>\n",
       "      <td>#SardinecontroSalvini \\n\\n#sardine ,la volete ...</td>\n",
       "      <td>Sat Dec 14 17:06:56 +0000 2019</td>\n",
       "      <td>0</td>\n",
       "      <td>#SardinecontroSalvini,#sardine</td>\n",
       "      <td>Twitter Web App</td>\n",
       "    </tr>\n",
       "    <tr>\n",
       "      <th>45549</th>\n",
       "      <td>45549</td>\n",
       "      <td>21558</td>\n",
       "      <td>NaN</td>\n",
       "      <td>Tue Jul 16 12:15:20 +0000 2019</td>\n",
       "      <td>Certe volte serve altro.</td>\n",
       "      <td>28</td>\n",
       "      <td>3</td>\n",
       "      <td>15</td>\n",
       "      <td>0</td>\n",
       "      <td>NaN</td>\n",
       "      <td>...</td>\n",
       "      <td>Vuoto</td>\n",
       "      <td>Vuoto</td>\n",
       "      <td>Vuoto</td>\n",
       "      <td>Vuoto</td>\n",
       "      <td>Vuoto</td>\n",
       "      <td>Immagino solo l'acquolina nella bocca dei part...</td>\n",
       "      <td>Sat Dec 14 17:06:56 +0000 2019</td>\n",
       "      <td>0</td>\n",
       "      <td>#sardine,#RomaNonsiLega</td>\n",
       "      <td>Twitter for Android</td>\n",
       "    </tr>\n",
       "    <tr>\n",
       "      <th>45550</th>\n",
       "      <td>45550</td>\n",
       "      <td>21559</td>\n",
       "      <td>Marcoclari1</td>\n",
       "      <td>Thu Oct 22 10:23:14 +0000 2009</td>\n",
       "      <td>Avvocato penalista innamorato tradito e deluso...</td>\n",
       "      <td>7509</td>\n",
       "      <td>600</td>\n",
       "      <td>1239</td>\n",
       "      <td>1</td>\n",
       "      <td>NaN</td>\n",
       "      <td>...</td>\n",
       "      <td>&lt;a href=\"http://twitter.com/download/android\" ...</td>\n",
       "      <td>1205798136519831553</td>\n",
       "      <td>13179</td>\n",
       "      <td>1146398252721496064</td>\n",
       "      <td>False</td>\n",
       "      <td>Grandi piccoli patrioti crescono\\n“L’Italia è ...</td>\n",
       "      <td>Sat Dec 14 17:06:57 +0000 2019</td>\n",
       "      <td>0</td>\n",
       "      <td>NaN</td>\n",
       "      <td>Twitter Web App</td>\n",
       "    </tr>\n",
       "    <tr>\n",
       "      <th>45551</th>\n",
       "      <td>45551</td>\n",
       "      <td>21560</td>\n",
       "      <td>jimmomo</td>\n",
       "      <td>Sat Aug 22 15:17:53 +0000 2015</td>\n",
       "      <td>NaN</td>\n",
       "      <td>8258</td>\n",
       "      <td>93</td>\n",
       "      <td>133</td>\n",
       "      <td>0</td>\n",
       "      <td>NaN</td>\n",
       "      <td>...</td>\n",
       "      <td>&lt;a href=\"https://mobile.twitter.com\" rel=\"nofo...</td>\n",
       "      <td>1205867041586130944</td>\n",
       "      <td>27057</td>\n",
       "      <td>11170692</td>\n",
       "      <td>False</td>\n",
       "      <td>Non so le altre, ma almeno quella di Roma dell...</td>\n",
       "      <td>Sat Dec 14 17:06:57 +0000 2019</td>\n",
       "      <td>0</td>\n",
       "      <td>#Sardine</td>\n",
       "      <td>Twitter for Android</td>\n",
       "    </tr>\n",
       "  </tbody>\n",
       "</table>\n",
       "<p>45552 rows × 39 columns</p>\n",
       "</div>"
      ],
      "text/plain": [
       "       Unnamed: 0  index                   @mentions  \\\n",
       "0               0      0  AMorelliMilano,_GrayDorian   \n",
       "1               1      1                  doluccia16   \n",
       "2               2      2                  angelo_ra_   \n",
       "3               3      3                 _GrayDorian   \n",
       "4               4      4  AMorelliMilano,_GrayDorian   \n",
       "...           ...    ...                         ...   \n",
       "45547       45547  21556                         NaN   \n",
       "45548       45548  21557                   IlCastiga   \n",
       "45549       45549  21558                         NaN   \n",
       "45550       45550  21559                 Marcoclari1   \n",
       "45551       45551  21560                     jimmomo   \n",
       "\n",
       "                   account_created_at  \\\n",
       "0                 2017-10-25 13:43:20   \n",
       "1       2018-10-24 22:43:19.999999762   \n",
       "2       2018-10-24 22:43:19.999999762   \n",
       "3       2018-10-24 22:43:19.999999762   \n",
       "4                 2012-12-19 04:23:20   \n",
       "...                               ...   \n",
       "45547  Sun Jun 28 10:23:20 +0000 2009   \n",
       "45548  Mon Sep 21 13:11:43 +0000 2009   \n",
       "45549  Tue Jul 16 12:15:20 +0000 2019   \n",
       "45550  Thu Oct 22 10:23:14 +0000 2009   \n",
       "45551  Sat Aug 22 15:17:53 +0000 2015   \n",
       "\n",
       "                                     account_description  \\\n",
       "0              NN DATEMI CONSIGLI....SO SBAGLIARE DA ME.   \n",
       "1                                                    NaN   \n",
       "2                                                    NaN   \n",
       "3                                                    NaN   \n",
       "4      Fashion & FOOD+Bev. Manag.,40 years POSIT. Exp...   \n",
       "...                                                  ...   \n",
       "45547  Organizzazione di eventi. Liberale, liberista,...   \n",
       "45548  Sie müssen sich von diesen dem  neunzehnten Ja...   \n",
       "45549                           Certe volte serve altro.   \n",
       "45550  Avvocato penalista innamorato tradito e deluso...   \n",
       "45551                                                NaN   \n",
       "\n",
       "       account_favourites_count  account_followers_count  \\\n",
       "0                         26620                      459   \n",
       "1                        324174                      985   \n",
       "2                        324174                      985   \n",
       "3                        324174                      985   \n",
       "4                            40                     1560   \n",
       "...                         ...                      ...   \n",
       "45547                      8984                      750   \n",
       "45548                     28779                      146   \n",
       "45549                        28                        3   \n",
       "45550                      7509                      600   \n",
       "45551                      8258                       93   \n",
       "\n",
       "       account_friends_count  account_listed_count       account_location  \\\n",
       "0                        251                     2                    NaN   \n",
       "1                        383                     0                    NaN   \n",
       "2                        383                     0                    NaN   \n",
       "3                        383                     0                    NaN   \n",
       "4                       4997                    25           Carpi, MO, I   \n",
       "...                      ...                   ...                    ...   \n",
       "45547                    613                    14                 Milano   \n",
       "45548                     81                     0  Ministerium für Liebe   \n",
       "45549                     15                     0                    NaN   \n",
       "45550                   1239                     1                    NaN   \n",
       "45551                    133                     0                    NaN   \n",
       "\n",
       "       ...                                     retweet_source  \\\n",
       "0      ...                                Twitter for Android   \n",
       "1      ...                                Twitter for Android   \n",
       "2      ...                                Twitter for Android   \n",
       "3      ...                                Twitter for Android   \n",
       "4      ...                                Twitter for Android   \n",
       "...    ...                                                ...   \n",
       "45547  ...                                              Vuoto   \n",
       "45548  ...  <a href=\"http://twitter.com/download/android\" ...   \n",
       "45549  ...                                              Vuoto   \n",
       "45550  ...  <a href=\"http://twitter.com/download/android\" ...   \n",
       "45551  ...  <a href=\"https://mobile.twitter.com\" rel=\"nofo...   \n",
       "\n",
       "         retweet_status_id retweet_statuses_count      retweet_user_id  \\\n",
       "0              1.20265e+18                   5273          1.12833e+08   \n",
       "1               1.2027e+18                  40452          4.90139e+08   \n",
       "2               1.2026e+18                 106903          1.38681e+09   \n",
       "3              1.20256e+18                   5273          1.12833e+08   \n",
       "4              1.20265e+18                   5273          1.12833e+08   \n",
       "...                    ...                    ...                  ...   \n",
       "45547                Vuoto                  Vuoto                Vuoto   \n",
       "45548  1205796623999221760                  30422  1127210403489034241   \n",
       "45549                Vuoto                  Vuoto                Vuoto   \n",
       "45550  1205798136519831553                  13179  1146398252721496064   \n",
       "45551  1205867041586130944                  27057             11170692   \n",
       "\n",
       "       retweet_verified                                               text  \\\n",
       "0                     0  Scherzetto di @AMorelliMilano che domanda alle...   \n",
       "1                     0  Il leader delle #Sardine: \"Siamo evidentemente...   \n",
       "2                     0  Matteo Salvini durissimo con Mattia Santori le...   \n",
       "3                     0  - 245 manifestazioni in tutto il paese, milion...   \n",
       "4                     0  Scherzetto di @AMorelliMilano che domanda alle...   \n",
       "...                 ...                                                ...   \n",
       "45547             Vuoto  Come ho già detto in un'altra occasione, il mo...   \n",
       "45548             False  #SardinecontroSalvini \\n\\n#sardine ,la volete ...   \n",
       "45549             Vuoto  Immagino solo l'acquolina nella bocca dei part...   \n",
       "45550             False  Grandi piccoli patrioti crescono\\n“L’Italia è ...   \n",
       "45551             False  Non so le altre, ma almeno quella di Roma dell...   \n",
       "\n",
       "                     tweet_created_at tweet_favorite_count  \\\n",
       "0                 2019-12-05 23:53:20                    0   \n",
       "1                 2019-12-05 23:53:20                    0   \n",
       "2       2019-12-05 20:49:59.999999762                    0   \n",
       "3                 2019-12-05 20:33:20                    0   \n",
       "4                 2019-12-05 23:53:20                    0   \n",
       "...                               ...                  ...   \n",
       "45547  Sat Dec 14 17:06:54 +0000 2019                    0   \n",
       "45548  Sat Dec 14 17:06:56 +0000 2019                    0   \n",
       "45549  Sat Dec 14 17:06:56 +0000 2019                    0   \n",
       "45550  Sat Dec 14 17:06:57 +0000 2019                    0   \n",
       "45551  Sat Dec 14 17:06:57 +0000 2019                    0   \n",
       "\n",
       "                             hashtags         tweet_source  \n",
       "0                             sardine  Twitter for Android  \n",
       "1                             Sardine  Twitter for Android  \n",
       "2                                 NaN  Twitter for Android  \n",
       "3                                 NaN  Twitter for Android  \n",
       "4                             sardine  Twitter for Android  \n",
       "...                               ...                  ...  \n",
       "45547                             NaN             Facebook  \n",
       "45548  #SardinecontroSalvini,#sardine      Twitter Web App  \n",
       "45549         #sardine,#RomaNonsiLega  Twitter for Android  \n",
       "45550                             NaN      Twitter Web App  \n",
       "45551                        #Sardine  Twitter for Android  \n",
       "\n",
       "[45552 rows x 39 columns]"
      ]
     },
     "execution_count": 548,
     "metadata": {},
     "output_type": "execute_result"
    }
   ],
   "source": [
    "pd.read_csv(\"D:/Datasets/stream_tweets/df_finale_sardine.csv\")"
   ]
  },
  {
   "cell_type": "code",
   "execution_count": null,
   "metadata": {},
   "outputs": [],
   "source": []
  }
 ],
 "metadata": {
  "kernelspec": {
   "display_name": "Python 3",
   "language": "python",
   "name": "python3"
  },
  "language_info": {
   "codemirror_mode": {
    "name": "ipython",
    "version": 3
   },
   "file_extension": ".py",
   "mimetype": "text/x-python",
   "name": "python",
   "nbconvert_exporter": "python",
   "pygments_lexer": "ipython3",
   "version": "3.7.5"
  }
 },
 "nbformat": 4,
 "nbformat_minor": 2
}
