{
 "cells": [
  {
   "cell_type": "code",
   "execution_count": 50,
   "metadata": {},
   "outputs": [],
   "source": [
    "import pandas as pd\n",
    "import numpy as np\n",
    "import re\n",
    "import networkx as nx\n",
    "import matplotlib.pyplot as plt\n",
    "import community\n",
    "from collections import Counter\n",
    "from networkx.algorithms.cluster import average_clustering,clustering,triangles,transitivity"
   ]
  },
  {
   "cell_type": "code",
   "execution_count": 2,
   "metadata": {},
   "outputs": [],
   "source": [
    "clh1=pd.read_csv(\"C:/Users/1995m/OneDrive/Desktop/per_cc/hast_clu1.csv\")\n",
    "clh2=pd.read_csv(\"C:/Users/1995m/OneDrive/Desktop/per_cc/hast_clu2.csv\")\n",
    "clh3=pd.read_csv(\"C:/Users/1995m/OneDrive/Desktop/per_cc/hast_clu3.csv\")\n",
    "clh4=pd.read_csv(\"C:/Users/1995m/OneDrive/Desktop/per_cc/hast_clu4.csv\")\n",
    "clh5=pd.read_csv(\"C:/Users/1995m/OneDrive/Desktop/per_cc/hast_clu5.csv\")\n",
    "clh6=pd.read_csv(\"C:/Users/1995m/OneDrive/Desktop/per_cc/hast_clu6.csv\")\n",
    "clh7=pd.read_csv(\"C:/Users/1995m/OneDrive/Desktop/per_cc/hast_clu7.csv\")\n",
    "clh8=pd.read_csv(\"C:/Users/1995m/OneDrive/Desktop/per_cc/hast_clu8.csv\")\n",
    "clm1=pd.read_csv(\"C:/Users/1995m/OneDrive/Desktop/per_cc/ment_clu1.csv\")\n",
    "clm2=pd.read_csv(\"C:/Users/1995m/OneDrive/Desktop/per_cc/ment_clu2.csv\")\n",
    "clm3=pd.read_csv(\"C:/Users/1995m/OneDrive/Desktop/per_cc/ment_clu3.csv\")\n",
    "clm4=pd.read_csv(\"C:/Users/1995m/OneDrive/Desktop/per_cc/ment_clu4.csv\")\n",
    "clm5=pd.read_csv(\"C:/Users/1995m/OneDrive/Desktop/per_cc/ment_clu5.csv\")"
   ]
  },
  {
   "cell_type": "code",
   "execution_count": 45,
   "metadata": {
    "scrolled": true
   },
   "outputs": [
    {
     "name": "stdout",
     "output_type": "stream",
     "text": [
      "0.027702752184442788\n"
     ]
    }
   ],
   "source": [
    "GM1 = nx.Graph()\n",
    "for r in clm1.iterrows():\n",
    "    GM1.add_edge(r[1]['nome'],r[1]['tag'])\n",
    "print(average_clustering(GM1))\n"
   ]
  },
  {
   "cell_type": "code",
   "execution_count": 46,
   "metadata": {},
   "outputs": [
    {
     "name": "stdout",
     "output_type": "stream",
     "text": [
      "0.027702752184442788\n"
     ]
    }
   ],
   "source": [
    "GM1 = nx.Graph()\n",
    "for r in clm1.iterrows():\n",
    "    GM1.add_edge(r[1]['nome'],r[1]['tag'])\n",
    "print(average_clustering(GM1))"
   ]
  },
  {
   "cell_type": "code",
   "execution_count": 47,
   "metadata": {},
   "outputs": [
    {
     "name": "stdout",
     "output_type": "stream",
     "text": [
      "0.027702752184442788\n"
     ]
    }
   ],
   "source": [
    "GM1 = nx.Graph()\n",
    "for r in clm1.iterrows():\n",
    "    GM1.add_edge(r[1]['nome'],r[1]['tag'])\n",
    "print(average_clustering(GM1))"
   ]
  },
  {
   "cell_type": "code",
   "execution_count": 48,
   "metadata": {},
   "outputs": [
    {
     "name": "stdout",
     "output_type": "stream",
     "text": [
      "0.027702752184442788\n"
     ]
    }
   ],
   "source": [
    "GM1 = nx.Graph()\n",
    "for r in clm1.iterrows():\n",
    "    GM1.add_edge(r[1]['nome'],r[1]['tag'])\n",
    "print(average_clustering(GM1))"
   ]
  },
  {
   "cell_type": "code",
   "execution_count": 49,
   "metadata": {},
   "outputs": [
    {
     "name": "stdout",
     "output_type": "stream",
     "text": [
      "0.027702752184442788\n"
     ]
    }
   ],
   "source": [
    "GM1 = nx.Graph()\n",
    "for r in clm1.iterrows():\n",
    "    GM1.add_edge(r[1]['nome'],r[1]['tag'])\n",
    "print(average_clustering(GM1))"
   ]
  }
 ],
 "metadata": {
  "kernelspec": {
   "display_name": "Python 3",
   "language": "python",
   "name": "python3"
  },
  "language_info": {
   "codemirror_mode": {
    "name": "ipython",
    "version": 3
   },
   "file_extension": ".py",
   "mimetype": "text/x-python",
   "name": "python",
   "nbconvert_exporter": "python",
   "pygments_lexer": "ipython3",
   "version": "3.7.3"
  }
 },
 "nbformat": 4,
 "nbformat_minor": 2
}
